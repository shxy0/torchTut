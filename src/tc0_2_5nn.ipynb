{
 "cells": [
  {
   "cell_type": "code",
   "execution_count": 1,
   "metadata": {},
   "outputs": [],
   "source": [
    "# -*- coding: utf-8 -*-\n",
    "import torch"
   ]
  },
  {
   "cell_type": "code",
   "execution_count": 2,
   "metadata": {},
   "outputs": [],
   "source": [
    "# N是批大小；D是输入维度\n",
    "# H是隐藏层维度；D_out是输出维度\n",
    "N, D_in, H, D_out = 64, 1000, 100, 10"
   ]
  },
  {
   "cell_type": "code",
   "execution_count": 3,
   "metadata": {},
   "outputs": [],
   "source": [
    "# 产生输入和输出随机张量\n",
    "x = torch.randn(N, D_in)\n",
    "y = torch.randn(N, D_out)"
   ]
  },
  {
   "cell_type": "code",
   "execution_count": 4,
   "metadata": {},
   "outputs": [],
   "source": [
    "# 使用nn包将我们的模型定义为一系列的层\n",
    "# nn.Sequential是包含其他模块的模块，并按顺序应用这些模块来产生其输出\n",
    "# 每个线性模块使用线性函数从输入计算输出，并保存其内部的权重和偏差张量\n",
    "# 在构造模型之后，我们使用.to()方法将其移动到所需的设备\n",
    "model = torch.nn.Sequential(\n",
    "    torch.nn.Linear(D_in, H),\n",
    "    torch.nn.ReLU(),\n",
    "    torch.nn.Linear(H, D_out),\n",
    ")"
   ]
  },
  {
   "cell_type": "code",
   "execution_count": 5,
   "metadata": {},
   "outputs": [],
   "source": [
    "# nn包还包含常用的损失函数的定义\n",
    "# 在这种情况下，我们将使用平均平方误差(MSE)作为我们的损失函数\n",
    "loss_fn = torch.nn.MSELoss(reduction='sum')"
   ]
  },
  {
   "cell_type": "code",
   "execution_count": 6,
   "metadata": {},
   "outputs": [],
   "source": [
    "learning_rate = 1e-4"
   ]
  },
  {
   "cell_type": "code",
   "execution_count": 7,
   "metadata": {},
   "outputs": [
    {
     "name": "stdout",
     "output_type": "stream",
     "text": [
      "99 2.5821821689605713\n",
      "199 0.046172767877578735\n",
      "299 0.0030032251961529255\n",
      "399 0.0002886698639485985\n",
      "499 3.044271215912886e-05\n"
     ]
    }
   ],
   "source": [
    "for t in range(500):\n",
    "    # 前向传播：通过向模型传入x计算预测的y\n",
    "    # 模块对象重载了__call__运算符，所以可以像函数那样调用它们\n",
    "    # 这么做相当于向模块传入了一个张量，然后它返回了一个输出张量\n",
    "    y_pred = model(x)\n",
    "\n",
    "    # 计算并打印损失。我们传递包含y的预测值和真实值的张量，损失函数返回包含损失的张量\n",
    "    loss = loss_fn(y_pred, y)\n",
    "    if t % 100 == 99:\n",
    "        print(t, loss.item())\n",
    "\n",
    "    # 反向传播之前清零梯度\n",
    "    model.zero_grad()\n",
    "\n",
    "    # 反向传播：计算模型的损失对所有可学习参数的梯度\n",
    "    # 在内部，每个模块的参数存储在requires_grad=True的张量中\n",
    "    # 因此这个调用将计算模型中所有可学习参数的梯度\n",
    "    loss.backward()\n",
    "\n",
    "    # 使用梯度下降更新权重\n",
    "    # 每个参数都是张量，所以我们可以像我们以前那样可以得到它的数值和梯度\n",
    "    with torch.no_grad():\n",
    "        for param in model.parameters():\n",
    "            param -= learning_rate * param.grad"
   ]
  },
  {
   "cell_type": "code",
   "execution_count": null,
   "metadata": {},
   "outputs": [],
   "source": []
  }
 ],
 "metadata": {
  "kernelspec": {
   "display_name": "Python 3",
   "language": "python",
   "name": "python3"
  },
  "language_info": {
   "codemirror_mode": {
    "name": "ipython",
    "version": 3
   },
   "file_extension": ".py",
   "mimetype": "text/x-python",
   "name": "python",
   "nbconvert_exporter": "python",
   "pygments_lexer": "ipython3",
   "version": "3.7.4"
  }
 },
 "nbformat": 4,
 "nbformat_minor": 2
}
